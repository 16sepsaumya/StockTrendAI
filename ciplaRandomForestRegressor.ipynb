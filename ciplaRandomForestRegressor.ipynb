{
  "nbformat": 4,
  "nbformat_minor": 0,
  "metadata": {
    "colab": {
      "provenance": []
    },
    "kernelspec": {
      "name": "python3",
      "display_name": "Python 3"
    },
    "language_info": {
      "name": "python"
    }
  },
  "cells": [
    {
      "cell_type": "code",
      "execution_count": null,
      "metadata": {
        "id": "lJwCyeXEn0-Q"
      },
      "outputs": [],
      "source": [
        "# Import libraries\n",
        "from sklearn.ensemble import RandomForestRegressor\n",
        "from sklearn.model_selection import train_test_split\n",
        "from sklearn.metrics import mean_squared_error, r2_score\n",
        "import numpy as np\n",
        "import pandas as pd\n",
        "\n"
      ]
    },
    {
      "cell_type": "code",
      "source": [
        "df = pd.read_csv('CIPLA.csv')"
      ],
      "metadata": {
        "id": "wjXGn5ZOttzz"
      },
      "execution_count": null,
      "outputs": []
    },
    {
      "cell_type": "code",
      "metadata": {
        "id": "8c7e1694"
      },
      "source": [
        "X = df[['Open', 'High', 'Low', 'Volume']]\n",
        "y = df['Close']"
      ],
      "execution_count": null,
      "outputs": []
    },
    {
      "cell_type": "code",
      "source": [
        "X_train, X_test, y_train, y_test = train_test_split(X, y, test_size=0.2, random_state=42)"
      ],
      "metadata": {
        "id": "jOYvPjETuW_2"
      },
      "execution_count": null,
      "outputs": []
    },
    {
      "cell_type": "code",
      "source": [
        "# Initialize the Random Forest model\n",
        "rf_model = RandomForestRegressor(\n",
        "    n_estimators=200,      # number of trees\n",
        "    max_depth=None,        # expand until all leaves are pure\n",
        "    random_state=42,\n",
        "    n_jobs=-1\n",
        ")"
      ],
      "metadata": {
        "id": "zQ3eZMFEuag3"
      },
      "execution_count": null,
      "outputs": []
    },
    {
      "cell_type": "code",
      "source": [
        "# Train the model\n",
        "rf_model.fit(X_train, y_train)\n",
        "\n",
        "# Make predictions\n",
        "y_pred_rf = rf_model.predict(X_test)\n",
        "\n",
        "# Evaluate the model\n",
        "r2 = r2_score(y_test, y_pred_rf)\n",
        "rmse = np.sqrt(mean_squared_error(y_test, y_pred_rf))"
      ],
      "metadata": {
        "id": "Y0y_XMqAugOL"
      },
      "execution_count": null,
      "outputs": []
    },
    {
      "cell_type": "code",
      "source": [
        "print(\"🌲 Random Forest Regression Results:\")\n",
        "print(f\"R² Score: {r2:.4f}\")\n",
        "print(f\"RMSE: {rmse:.4f}\")"
      ],
      "metadata": {
        "colab": {
          "base_uri": "https://localhost:8080/"
        },
        "id": "7oE-VIjiujmY",
        "outputId": "dfbc1826-7cd3-4a48-f497-c4e880123e1b"
      },
      "execution_count": null,
      "outputs": [
        {
          "output_type": "stream",
          "name": "stdout",
          "text": [
            "🌲 Random Forest Regression Results:\n",
            "R² Score: 0.9992\n",
            "RMSE: 8.0376\n"
          ]
        }
      ]
    }
  ]
}